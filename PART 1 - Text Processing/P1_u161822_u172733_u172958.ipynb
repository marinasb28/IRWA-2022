{
  "cells": [
    {
      "cell_type": "markdown",
      "metadata": {
        "id": "iiB2f3Y-5eXS"
      },
      "source": [
        "# Information Retrieval and Web Analytics\n",
        "\n",
        "# Part 1: Text Processing"
      ]
    },
    {
      "cell_type": "markdown",
      "metadata": {
        "id": "UdVubyLud_A1"
      },
      "source": [
        "Authors: \n",
        "*   <font color=\"blue\">Miquel Casas Olivella</font>\n",
        "*   <font color=\"blue\">Aina Moncho Roig</font>\n",
        "*   <font color=\"blue\">Marina Suárez Blázquez</font>"
      ]
    },
    {
      "cell_type": "markdown",
      "metadata": {
        "id": "iNt6V-hu5eXa"
      },
      "source": [
        "#### Load Python packages\n",
        "Let's first import all the packages that we will need during this assignment."
      ]
    },
    {
      "cell_type": "code",
      "execution_count": 1,
      "metadata": {
        "id": "pQ4wsl7O5eXc"
      },
      "outputs": [],
      "source": [
        "from collections import defaultdict\n",
        "from array import array\n",
        "from nltk.stem import PorterStemmer\n",
        "from nltk.corpus import stopwords\n",
        "from numpy import linalg as la\n",
        "from datetime import datetime\n",
        "import math\n",
        "import numpy as np\n",
        "import collections\n",
        "import json # this will help us read the file\n",
        "import re\n",
        "import pandas as pd"
      ]
    },
    {
      "cell_type": "code",
      "execution_count": 2,
      "metadata": {
        "colab": {
          "base_uri": "https://localhost:8080/"
        },
        "id": "Z27uXzYa5eXa",
        "outputId": "76695965-117c-43a3-e1bf-d65f35a7f22c",
        "scrolled": true
      },
      "outputs": [
        {
          "output_type": "stream",
          "name": "stderr",
          "text": [
            "[nltk_data] Downloading package stopwords to /root/nltk_data...\n",
            "[nltk_data]   Unzipping corpora/stopwords.zip.\n"
          ]
        },
        {
          "output_type": "execute_result",
          "data": {
            "text/plain": [
              "True"
            ]
          },
          "metadata": {},
          "execution_count": 2
        }
      ],
      "source": [
        "# if you do not have 'nltk', the following command should work \"python -m pip install nltk\"\n",
        "import nltk\n",
        "nltk.download('stopwords')"
      ]
    },
    {
      "cell_type": "markdown",
      "metadata": {
        "id": "-fa18swOfhSp"
      },
      "source": [
        "We are first going to read the tweets using json python's library."
      ]
    },
    {
      "cell_type": "code",
      "execution_count": 3,
      "metadata": {
        "colab": {
          "base_uri": "https://localhost:8080/"
        },
        "id": "zYfJ2g9cRrD6",
        "outputId": "c42c3df4-14da-4bca-daa0-67afc0772a09"
      },
      "outputs": [
        {
          "output_type": "stream",
          "name": "stdout",
          "text": [
            "Total number of tweets: 4000\n"
          ]
        }
      ],
      "source": [
        "data = [json.loads(line) for line in open('tw_hurricane_data.json', 'r')]\n",
        "print('Total number of tweets: {}'.format(len(data)))"
      ]
    },
    {
      "cell_type": "markdown",
      "metadata": {
        "id": "dgOqgjTQoVNi"
      },
      "source": [
        "#### Pre-processing the documents\n"
      ]
    },
    {
      "cell_type": "markdown",
      "metadata": {
        "id": "iQrEidT_oZ2v"
      },
      "source": [
        "1. Removing stop words\n",
        "2. Tokenization\n",
        "3. Removing punctuation marks\n",
        "4. Stemming\n",
        "5. Bonus point\n",
        "\n",
        "\n",
        "\n"
      ]
    },
    {
      "cell_type": "code",
      "execution_count": 4,
      "metadata": {
        "id": "wiU_SAfv8KMn"
      },
      "outputs": [],
      "source": [
        "def build_terms(line):\n",
        "  stemmer = PorterStemmer()\n",
        "  stop_words = set(stopwords.words('english'))\n",
        "  line = line.lower()\n",
        "  line = re.sub('http[s]?://\\S+', '', line) # BONUS: Remove urls\n",
        "  line = re.sub('[\\W_]+', ' ', line) # BONUS: Remove emojis, simbols...\n",
        "  line = line.split()  # Tokenize the text to get a list of terms\n",
        "  line = [x for x in line if x not in stop_words]  # Eliminate the stopwords\n",
        "  line = [stemmer.stem(word) for word in line] # Perform stemming\n",
        "  return line"
      ]
    },
    {
      "cell_type": "code",
      "execution_count": 5,
      "metadata": {
        "colab": {
          "base_uri": "https://localhost:8080/"
        },
        "id": "8USKC6chhkou",
        "outputId": "f01fa4ea-a856-43b4-f956-1cf50e2bf834"
      },
      "outputs": [
        {
          "output_type": "stream",
          "name": "stdout",
          "text": [
            "\u001b[1mUNPROCESSED\u001b[0m\n",
            "{'Tweet': 'So this will keep spinning over us until 7 pm…go away already. #HurricaneIan https://t.co/VROTxNS9rz', 'Username': 'Suz👻', 'Date': 'Fri Sep 30 18:39:08 +0000 2022', 'Hashtags': [{'text': 'HurricaneIan', 'indices': [63, 76]}], 'Likes': 0, 'Retweets': 0, 'Url': 'https://t.co/VROTxNS9rz'}\n",
            "\u001b[1mPROCESSED\u001b[0m\n",
            "{'Tweet': ['keep', 'spin', 'us', '7', 'pm', 'go', 'away', 'alreadi', 'hurricaneian'], 'Username': 'Suz ', 'Date': datetime.datetime(2022, 9, 30, 18, 39, 8, tzinfo=datetime.timezone.utc), 'Hashtags': ['HurricaneIan'], 'Likes': 0, 'Retweets': 0, 'Url': 'https://t.co/VROTxNS9rz'} \n",
            "\n",
            "\u001b[1mUNPROCESSED\u001b[0m\n",
            "{'Tweet': 'Our hearts go out to all those affected by #HurricaneIan. We wish everyone on the roads currently braving the conditions safe travels. 💙', 'Username': 'Lytx', 'Date': 'Fri Sep 30 18:39:01 +0000 2022', 'Hashtags': [{'text': 'HurricaneIan', 'indices': [43, 56]}], 'Likes': 0, 'Retweets': 0, 'Url': {}}\n",
            "\u001b[1mPROCESSED\u001b[0m\n",
            "{'Tweet': ['heart', 'go', 'affect', 'hurricaneian', 'wish', 'everyon', 'road', 'current', 'brave', 'condit', 'safe', 'travel'], 'Username': 'Lytx', 'Date': datetime.datetime(2022, 9, 30, 18, 39, 1, tzinfo=datetime.timezone.utc), 'Hashtags': ['HurricaneIan'], 'Likes': 0, 'Retweets': 0, 'Url': {}} \n",
            "\n",
            "\u001b[1mUNPROCESSED\u001b[0m\n",
            "{'Tweet': 'Kissimmee neighborhood off of Michigan Ave. \\n#HurricaneIan https://t.co/jf7zseg0Fe', 'Username': 'Christopher Heath', 'Date': 'Fri Sep 30 18:38:58 +0000 2022', 'Hashtags': [{'text': 'HurricaneIan', 'indices': [45, 58]}], 'Likes': 0, 'Retweets': 0, 'Url': 'https://t.co/jf7zseg0Fe'}\n",
            "\u001b[1mPROCESSED\u001b[0m\n",
            "{'Tweet': ['kissimme', 'neighborhood', 'michigan', 'ave', 'hurricaneian'], 'Username': 'Christopher Heath', 'Date': datetime.datetime(2022, 9, 30, 18, 38, 58, tzinfo=datetime.timezone.utc), 'Hashtags': ['HurricaneIan'], 'Likes': 0, 'Retweets': 0, 'Url': 'https://t.co/jf7zseg0Fe'} \n",
            "\n",
            "\u001b[1mUNPROCESSED\u001b[0m\n",
            "{'Tweet': 'I have this one tree in my backyard that scares me more than the poltergeist tree when it’s storming and windy like this. #scwx #HurricaneIan', 'Username': 'alex ✨', 'Date': 'Fri Sep 30 18:38:57 +0000 2022', 'Hashtags': [{'text': 'scwx', 'indices': [122, 127]}, {'text': 'HurricaneIan', 'indices': [128, 141]}], 'Likes': 0, 'Retweets': 0, 'Url': {}}\n",
            "\u001b[1mPROCESSED\u001b[0m\n",
            "{'Tweet': ['one', 'tree', 'backyard', 'scare', 'poltergeist', 'tree', 'storm', 'windi', 'like', 'scwx', 'hurricaneian'], 'Username': 'alex ', 'Date': datetime.datetime(2022, 9, 30, 18, 38, 57, tzinfo=datetime.timezone.utc), 'Hashtags': ['scwx', 'HurricaneIan'], 'Likes': 0, 'Retweets': 0, 'Url': {}} \n",
            "\n",
            "\u001b[1mUNPROCESSED\u001b[0m\n",
            "{'Tweet': '@AshleyRuizWx @Stephan89441722 @lilmizzheidi @Mr__Sniffles @winknews @DylanFedericoWX @julianamwx @sydneypersing @NicoleGabeTV I pray for everyone affected by #HurricaneIan, but not those associated with WINKnews.  No sympathy for animal abusers, liars, and those that condone it.', 'Username': 'Tess 💋', 'Date': 'Fri Sep 30 18:38:53 +0000 2022', 'Hashtags': [{'text': 'HurricaneIan', 'indices': [159, 172]}], 'Likes': 0, 'Retweets': 0, 'Url': {}}\n",
            "\u001b[1mPROCESSED\u001b[0m\n",
            "{'Tweet': ['ashleyruizwx', 'stephan89441722', 'lilmizzheidi', 'mr', 'sniffl', 'winknew', 'dylanfedericowx', 'julianamwx', 'sydneypers', 'nicolegabetv', 'pray', 'everyon', 'affect', 'hurricaneian', 'associ', 'winknew', 'sympathi', 'anim', 'abus', 'liar', 'condon'], 'Username': 'Tess ', 'Date': datetime.datetime(2022, 9, 30, 18, 38, 53, tzinfo=datetime.timezone.utc), 'Hashtags': ['HurricaneIan'], 'Likes': 0, 'Retweets': 0, 'Url': {}} \n",
            "\n"
          ]
        }
      ],
      "source": [
        "i = 0\n",
        "for tweet in data:  # Data contains all tweets\n",
        "\n",
        "  # Keeping the needed tweet fields\n",
        "  tweet = {'Tweet': tweet['full_text'], \n",
        "           'Username': tweet['user']['name'], \n",
        "           'Date': tweet['created_at'], \n",
        "           'Hashtags': tweet['entities']['hashtags'],\n",
        "           'Likes': tweet['favorite_count'],\n",
        "           'Retweets': tweet['retweet_count'],\n",
        "           'Url': tweet['entities']['media'][0]['url'] if ( tweet['entities'].get('media') is not None) else {}} # encontrar que url es\n",
        "  \n",
        "  # Displaying 5 tweets before processing them\n",
        "  if i<5:\n",
        "    print('\\033[1m' + 'UNPROCESSED' + '\\033[0m')\n",
        "    print(tweet) \n",
        "  \n",
        "  # Processing each of the fields\n",
        "  for key in tweet.keys():\n",
        "    if key == 'Tweet':\n",
        "      tweet[key]=build_terms(tweet[key]) # Pre-processing the full text\n",
        "    if key == 'Username':\n",
        "      tweet[key]=re.sub('[\\W_]+',' ',tweet[key]) # Remove emojis, simbols... from username    \n",
        "    if key == 'Date':\n",
        "      tweet[key]=datetime.strptime(tweet[key], '%a %b %d %H:%M:%S %z %Y') # Changing Date format into an understandable format for python\n",
        "    if key == 'Hashtags':\n",
        "      tweet[key]=[hashtag['text'] for hashtag in tweet[key]] # Creating a list of all hashtags (without indices)     \n",
        "  \n",
        "  # Displaying 5 tweets after processing them\n",
        "  if i<5:\n",
        "    print('\\033[1m' + 'PROCESSED' + '\\033[0m')\n",
        "    print(tweet, '\\n') \n",
        "\n",
        "  data[i] = tweet\n",
        "  i += 1 "
      ]
    },
    {
      "cell_type": "code",
      "source": [
        "df = pd.DataFrame.from_dict(data) # Converting the list of dictionaries into a dataframe\n",
        "doc_ids = pd.read_csv('tweet_document_ids_map.csv', names=['doc_id']) # Reading the tweet_document_ids_map\n",
        "df_final = pd.merge(doc_ids, df, left_index=True, right_index=True) # Mapping the tweets with the document ids\n",
        "df_final"
      ],
      "metadata": {
        "colab": {
          "base_uri": "https://localhost:8080/",
          "height": 641
        },
        "id": "fCQzC4XEH27k",
        "outputId": "11d97fe5-3616-4589-c772-a85082426ea2"
      },
      "execution_count": 6,
      "outputs": [
        {
          "output_type": "execute_result",
          "data": {
            "text/plain": [
              "                             doc_id  \\\n",
              "0        doc_1\\t1575918182698979328   \n",
              "1        doc_2\\t1575918151862304768   \n",
              "2        doc_3\\t1575918140839673873   \n",
              "3        doc_4\\t1575918135009738752   \n",
              "4        doc_5\\t1575918119251419136   \n",
              "...                             ...   \n",
              "3995  doc_3996\\t1575856268022992896   \n",
              "3996  doc_3997\\t1575856245650919424   \n",
              "3997  doc_3998\\t1575856228886089728   \n",
              "3998  doc_3999\\t1575856226139017216   \n",
              "3999  doc_4000\\t1575856225908326400   \n",
              "\n",
              "                                                  Tweet              Username  \\\n",
              "0     [keep, spin, us, 7, pm, go, away, alreadi, hur...                  Suz    \n",
              "1     [heart, go, affect, hurricaneian, wish, everyo...                  Lytx   \n",
              "2     [kissimme, neighborhood, michigan, ave, hurric...     Christopher Heath   \n",
              "3     [one, tree, backyard, scare, poltergeist, tree...                 alex    \n",
              "4     [ashleyruizwx, stephan89441722, lilmizzheidi, ...                 Tess    \n",
              "...                                                 ...                   ...   \n",
              "3995  [cfrd, carrboropd, carrboro, public, work, car...  Carrboro Fire Rescue   \n",
              "3996  [osceolacountyfl, list, fema, websit, widespre...         BaconBitsNews   \n",
              "3997  [realli, hurricaneian, flood, florida, magatea...               jganyfl   \n",
              "3998  [damag, area, punta, gorda, thread, tropic, gu...             CJ Haddad   \n",
              "3999  [aw, desanti, busi, scheme, traffick, asylum, ...      Ohemgeeitsalyssa   \n",
              "\n",
              "                          Date  \\\n",
              "0    2022-09-30 18:39:08+00:00   \n",
              "1    2022-09-30 18:39:01+00:00   \n",
              "2    2022-09-30 18:38:58+00:00   \n",
              "3    2022-09-30 18:38:57+00:00   \n",
              "4    2022-09-30 18:38:53+00:00   \n",
              "...                        ...   \n",
              "3995 2022-09-30 14:33:06+00:00   \n",
              "3996 2022-09-30 14:33:01+00:00   \n",
              "3997 2022-09-30 14:32:57+00:00   \n",
              "3998 2022-09-30 14:32:56+00:00   \n",
              "3999 2022-09-30 14:32:56+00:00   \n",
              "\n",
              "                                               Hashtags  Likes  Retweets  \\\n",
              "0                                        [HurricaneIan]      0         0   \n",
              "1                                        [HurricaneIan]      0         0   \n",
              "2                                        [HurricaneIan]      0         0   \n",
              "3                                  [scwx, HurricaneIan]      0         0   \n",
              "4                                        [HurricaneIan]      0         0   \n",
              "...                                                 ...    ...       ...   \n",
              "3995                 [CarrboroSafe, ncwx, HurricaneIan]      2         0   \n",
              "3996  [Kissimmee, SaintCloud, BlueCounty, Disney, De...      0         0   \n",
              "3997                 [HurricaneIan, Florida, MAGATears]     16         8   \n",
              "3998                                     [HurricaneIan]      2         1   \n",
              "3999                           [DeSantis, HurricaneIan]      0         0   \n",
              "\n",
              "                          Url  \n",
              "0     https://t.co/VROTxNS9rz  \n",
              "1                          {}  \n",
              "2     https://t.co/jf7zseg0Fe  \n",
              "3                          {}  \n",
              "4                          {}  \n",
              "...                       ...  \n",
              "3995                       {}  \n",
              "3996                       {}  \n",
              "3997  https://t.co/9VPkyjZvWO  \n",
              "3998  https://t.co/jcVCdY2FQ6  \n",
              "3999                       {}  \n",
              "\n",
              "[4000 rows x 8 columns]"
            ],
            "text/html": [
              "\n",
              "  <div id=\"df-2aa48d02-a2f6-4805-8ae2-05e61204d67e\">\n",
              "    <div class=\"colab-df-container\">\n",
              "      <div>\n",
              "<style scoped>\n",
              "    .dataframe tbody tr th:only-of-type {\n",
              "        vertical-align: middle;\n",
              "    }\n",
              "\n",
              "    .dataframe tbody tr th {\n",
              "        vertical-align: top;\n",
              "    }\n",
              "\n",
              "    .dataframe thead th {\n",
              "        text-align: right;\n",
              "    }\n",
              "</style>\n",
              "<table border=\"1\" class=\"dataframe\">\n",
              "  <thead>\n",
              "    <tr style=\"text-align: right;\">\n",
              "      <th></th>\n",
              "      <th>doc_id</th>\n",
              "      <th>Tweet</th>\n",
              "      <th>Username</th>\n",
              "      <th>Date</th>\n",
              "      <th>Hashtags</th>\n",
              "      <th>Likes</th>\n",
              "      <th>Retweets</th>\n",
              "      <th>Url</th>\n",
              "    </tr>\n",
              "  </thead>\n",
              "  <tbody>\n",
              "    <tr>\n",
              "      <th>0</th>\n",
              "      <td>doc_1\\t1575918182698979328</td>\n",
              "      <td>[keep, spin, us, 7, pm, go, away, alreadi, hur...</td>\n",
              "      <td>Suz</td>\n",
              "      <td>2022-09-30 18:39:08+00:00</td>\n",
              "      <td>[HurricaneIan]</td>\n",
              "      <td>0</td>\n",
              "      <td>0</td>\n",
              "      <td>https://t.co/VROTxNS9rz</td>\n",
              "    </tr>\n",
              "    <tr>\n",
              "      <th>1</th>\n",
              "      <td>doc_2\\t1575918151862304768</td>\n",
              "      <td>[heart, go, affect, hurricaneian, wish, everyo...</td>\n",
              "      <td>Lytx</td>\n",
              "      <td>2022-09-30 18:39:01+00:00</td>\n",
              "      <td>[HurricaneIan]</td>\n",
              "      <td>0</td>\n",
              "      <td>0</td>\n",
              "      <td>{}</td>\n",
              "    </tr>\n",
              "    <tr>\n",
              "      <th>2</th>\n",
              "      <td>doc_3\\t1575918140839673873</td>\n",
              "      <td>[kissimme, neighborhood, michigan, ave, hurric...</td>\n",
              "      <td>Christopher Heath</td>\n",
              "      <td>2022-09-30 18:38:58+00:00</td>\n",
              "      <td>[HurricaneIan]</td>\n",
              "      <td>0</td>\n",
              "      <td>0</td>\n",
              "      <td>https://t.co/jf7zseg0Fe</td>\n",
              "    </tr>\n",
              "    <tr>\n",
              "      <th>3</th>\n",
              "      <td>doc_4\\t1575918135009738752</td>\n",
              "      <td>[one, tree, backyard, scare, poltergeist, tree...</td>\n",
              "      <td>alex</td>\n",
              "      <td>2022-09-30 18:38:57+00:00</td>\n",
              "      <td>[scwx, HurricaneIan]</td>\n",
              "      <td>0</td>\n",
              "      <td>0</td>\n",
              "      <td>{}</td>\n",
              "    </tr>\n",
              "    <tr>\n",
              "      <th>4</th>\n",
              "      <td>doc_5\\t1575918119251419136</td>\n",
              "      <td>[ashleyruizwx, stephan89441722, lilmizzheidi, ...</td>\n",
              "      <td>Tess</td>\n",
              "      <td>2022-09-30 18:38:53+00:00</td>\n",
              "      <td>[HurricaneIan]</td>\n",
              "      <td>0</td>\n",
              "      <td>0</td>\n",
              "      <td>{}</td>\n",
              "    </tr>\n",
              "    <tr>\n",
              "      <th>...</th>\n",
              "      <td>...</td>\n",
              "      <td>...</td>\n",
              "      <td>...</td>\n",
              "      <td>...</td>\n",
              "      <td>...</td>\n",
              "      <td>...</td>\n",
              "      <td>...</td>\n",
              "      <td>...</td>\n",
              "    </tr>\n",
              "    <tr>\n",
              "      <th>3995</th>\n",
              "      <td>doc_3996\\t1575856268022992896</td>\n",
              "      <td>[cfrd, carrboropd, carrboro, public, work, car...</td>\n",
              "      <td>Carrboro Fire Rescue</td>\n",
              "      <td>2022-09-30 14:33:06+00:00</td>\n",
              "      <td>[CarrboroSafe, ncwx, HurricaneIan]</td>\n",
              "      <td>2</td>\n",
              "      <td>0</td>\n",
              "      <td>{}</td>\n",
              "    </tr>\n",
              "    <tr>\n",
              "      <th>3996</th>\n",
              "      <td>doc_3997\\t1575856245650919424</td>\n",
              "      <td>[osceolacountyfl, list, fema, websit, widespre...</td>\n",
              "      <td>BaconBitsNews</td>\n",
              "      <td>2022-09-30 14:33:01+00:00</td>\n",
              "      <td>[Kissimmee, SaintCloud, BlueCounty, Disney, De...</td>\n",
              "      <td>0</td>\n",
              "      <td>0</td>\n",
              "      <td>{}</td>\n",
              "    </tr>\n",
              "    <tr>\n",
              "      <th>3997</th>\n",
              "      <td>doc_3998\\t1575856228886089728</td>\n",
              "      <td>[realli, hurricaneian, flood, florida, magatea...</td>\n",
              "      <td>jganyfl</td>\n",
              "      <td>2022-09-30 14:32:57+00:00</td>\n",
              "      <td>[HurricaneIan, Florida, MAGATears]</td>\n",
              "      <td>16</td>\n",
              "      <td>8</td>\n",
              "      <td>https://t.co/9VPkyjZvWO</td>\n",
              "    </tr>\n",
              "    <tr>\n",
              "      <th>3998</th>\n",
              "      <td>doc_3999\\t1575856226139017216</td>\n",
              "      <td>[damag, area, punta, gorda, thread, tropic, gu...</td>\n",
              "      <td>CJ Haddad</td>\n",
              "      <td>2022-09-30 14:32:56+00:00</td>\n",
              "      <td>[HurricaneIan]</td>\n",
              "      <td>2</td>\n",
              "      <td>1</td>\n",
              "      <td>https://t.co/jcVCdY2FQ6</td>\n",
              "    </tr>\n",
              "    <tr>\n",
              "      <th>3999</th>\n",
              "      <td>doc_4000\\t1575856225908326400</td>\n",
              "      <td>[aw, desanti, busi, scheme, traffick, asylum, ...</td>\n",
              "      <td>Ohemgeeitsalyssa</td>\n",
              "      <td>2022-09-30 14:32:56+00:00</td>\n",
              "      <td>[DeSantis, HurricaneIan]</td>\n",
              "      <td>0</td>\n",
              "      <td>0</td>\n",
              "      <td>{}</td>\n",
              "    </tr>\n",
              "  </tbody>\n",
              "</table>\n",
              "<p>4000 rows × 8 columns</p>\n",
              "</div>\n",
              "      <button class=\"colab-df-convert\" onclick=\"convertToInteractive('df-2aa48d02-a2f6-4805-8ae2-05e61204d67e')\"\n",
              "              title=\"Convert this dataframe to an interactive table.\"\n",
              "              style=\"display:none;\">\n",
              "        \n",
              "  <svg xmlns=\"http://www.w3.org/2000/svg\" height=\"24px\"viewBox=\"0 0 24 24\"\n",
              "       width=\"24px\">\n",
              "    <path d=\"M0 0h24v24H0V0z\" fill=\"none\"/>\n",
              "    <path d=\"M18.56 5.44l.94 2.06.94-2.06 2.06-.94-2.06-.94-.94-2.06-.94 2.06-2.06.94zm-11 1L8.5 8.5l.94-2.06 2.06-.94-2.06-.94L8.5 2.5l-.94 2.06-2.06.94zm10 10l.94 2.06.94-2.06 2.06-.94-2.06-.94-.94-2.06-.94 2.06-2.06.94z\"/><path d=\"M17.41 7.96l-1.37-1.37c-.4-.4-.92-.59-1.43-.59-.52 0-1.04.2-1.43.59L10.3 9.45l-7.72 7.72c-.78.78-.78 2.05 0 2.83L4 21.41c.39.39.9.59 1.41.59.51 0 1.02-.2 1.41-.59l7.78-7.78 2.81-2.81c.8-.78.8-2.07 0-2.86zM5.41 20L4 18.59l7.72-7.72 1.47 1.35L5.41 20z\"/>\n",
              "  </svg>\n",
              "      </button>\n",
              "      \n",
              "  <style>\n",
              "    .colab-df-container {\n",
              "      display:flex;\n",
              "      flex-wrap:wrap;\n",
              "      gap: 12px;\n",
              "    }\n",
              "\n",
              "    .colab-df-convert {\n",
              "      background-color: #E8F0FE;\n",
              "      border: none;\n",
              "      border-radius: 50%;\n",
              "      cursor: pointer;\n",
              "      display: none;\n",
              "      fill: #1967D2;\n",
              "      height: 32px;\n",
              "      padding: 0 0 0 0;\n",
              "      width: 32px;\n",
              "    }\n",
              "\n",
              "    .colab-df-convert:hover {\n",
              "      background-color: #E2EBFA;\n",
              "      box-shadow: 0px 1px 2px rgba(60, 64, 67, 0.3), 0px 1px 3px 1px rgba(60, 64, 67, 0.15);\n",
              "      fill: #174EA6;\n",
              "    }\n",
              "\n",
              "    [theme=dark] .colab-df-convert {\n",
              "      background-color: #3B4455;\n",
              "      fill: #D2E3FC;\n",
              "    }\n",
              "\n",
              "    [theme=dark] .colab-df-convert:hover {\n",
              "      background-color: #434B5C;\n",
              "      box-shadow: 0px 1px 3px 1px rgba(0, 0, 0, 0.15);\n",
              "      filter: drop-shadow(0px 1px 2px rgba(0, 0, 0, 0.3));\n",
              "      fill: #FFFFFF;\n",
              "    }\n",
              "  </style>\n",
              "\n",
              "      <script>\n",
              "        const buttonEl =\n",
              "          document.querySelector('#df-2aa48d02-a2f6-4805-8ae2-05e61204d67e button.colab-df-convert');\n",
              "        buttonEl.style.display =\n",
              "          google.colab.kernel.accessAllowed ? 'block' : 'none';\n",
              "\n",
              "        async function convertToInteractive(key) {\n",
              "          const element = document.querySelector('#df-2aa48d02-a2f6-4805-8ae2-05e61204d67e');\n",
              "          const dataTable =\n",
              "            await google.colab.kernel.invokeFunction('convertToInteractive',\n",
              "                                                     [key], {});\n",
              "          if (!dataTable) return;\n",
              "\n",
              "          const docLinkHtml = 'Like what you see? Visit the ' +\n",
              "            '<a target=\"_blank\" href=https://colab.research.google.com/notebooks/data_table.ipynb>data table notebook</a>'\n",
              "            + ' to learn more about interactive tables.';\n",
              "          element.innerHTML = '';\n",
              "          dataTable['output_type'] = 'display_data';\n",
              "          await google.colab.output.renderOutput(dataTable, element);\n",
              "          const docLink = document.createElement('div');\n",
              "          docLink.innerHTML = docLinkHtml;\n",
              "          element.appendChild(docLink);\n",
              "        }\n",
              "      </script>\n",
              "    </div>\n",
              "  </div>\n",
              "  "
            ]
          },
          "metadata": {},
          "execution_count": 6
        }
      ]
    }
  ],
  "metadata": {
    "colab": {
      "collapsed_sections": [],
      "provenance": []
    },
    "kernelspec": {
      "display_name": "Python 3",
      "name": "python3"
    },
    "language_info": {
      "name": "python"
    }
  },
  "nbformat": 4,
  "nbformat_minor": 0
}